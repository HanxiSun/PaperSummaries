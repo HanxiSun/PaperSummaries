{
 "cells": [
  {
   "cell_type": "markdown",
   "metadata": {},
   "source": [
    "# Summary of Papers\n",
    "\n",
    "This document summarizes papers about models on phylogenetic tree that have been discussed in the 2017 Spring weekly meeting of [Professor Vinayak Rao](http://varao.github.io), [Professor Heejung Shim](https://heejungshim.org) and I (<a href=\"mailto:sun652@purdue.edu?subject=Comments_on_Paper_Summary\">\n",
    "sun652@purdue.edu</a>). We are welcome to all comments. "
   ]
  },
  {
   "cell_type": "markdown",
   "metadata": {},
   "source": [
    "## HMM for Detecting Lineage-Specific Selection\n",
    "\n",
    "[Siepel, Adam, Katherine S. Pollard, and David Haussler. \"New methods for detecting lineage-specific selection.\" Annual International Conference on Research in Computational Molecular Biology. Springer Berlin Heidelberg, 2006.](http://compgen.cshl.edu/~acs/dless.pdf) \n",
    "\n",
    "- They models lineage-specific selection (neutral or conserved regions on gene) with a phylogenetic hidden Markov model (DLESS). The figure below <cite data-cite=\"phylo-HMM\">(Siepel et al., 2006)</cite> shows the HMM model. \n",
    "\n",
    "![title](img/dless_1.png)\n",
    "\n",
    "- They also uses a Markov Jump Process model on the phylogenetic tree to assess the significance of the selection, i.e. calculating a quasi \"p-value\" using the posterior mean. "
   ]
  },
  {
   "cell_type": "markdown",
   "metadata": {},
   "source": [
    "## Human Accelerated Region (HAR)\n",
    "\n",
    " \n",
    "\n"
   ]
  },
  {
   "cell_type": "markdown",
   "metadata": {},
   "source": [
    "### the Review Paper of HAR\n",
    "\n",
    "[Hubisz, Melissa J., and Katherine S. Pollard. \"Exploring the genesis and functions of Human Accelerated Regions sheds light on their role in human evolution.\" Current opinion in genetics & development 29 (2014): 15-21.](http://ac.els-cdn.com/S0959437X14000781/1-s2.0-S0959437X14000781-main.pdf?_tid=a58b2ef2-29fa-11e7-a200-00000aacb362&acdnat=1493154395_234d69019171e5c26e2506394275e5cf)"
   ]
  },
  {
   "cell_type": "markdown",
   "metadata": {},
   "source": [
    "### the Nature Paper of Finding HAR\n",
    "\n",
    "[Pollard, Katherine S., et al. \"An RNA gene expressed during cortical development evolved rapidly in humans.\" Nature 443.7108 (2006): 167-172.](https://www.nature.com/nature/journal/v443/n7108/pdf/nature05113.pdf)"
   ]
  },
  {
   "cell_type": "markdown",
   "metadata": {},
   "source": [
    "## Phenotype Distribution on a Phylogenetic Tree\n"
   ]
  },
  {
   "cell_type": "markdown",
   "metadata": {},
   "source": [
    "### Discrete Distribution with Dirichlet Prior and Poisson Process Changepoints\n",
    "\n",
    "[Ansari, M. Azim, and Xavier Didelot. \"Bayesian Inference of the Evolution of a Phenotype Distribution on a Phylogenetic Tree.\" Genetics 204.1 (2016): 89-98.](http://www.genetics.org/content/genetics/204/1/89.full.pdf)\n",
    "\n",
    "Model:\n",
    "- The distribution of the phenotype is modeled as a multinomial distribution with parameter $q=(q_1, \\dots, q_K)$, and a flat Dirichlet prior on $q$. \n",
    "- Changepoints are modeled as a Poisson Process with rate $\\lambda$, and an exponential prior on $\\lambda$ with mean $1/T$, where $T$ is the branch length. \n",
    "- A changepoint event will introduce a new $q$.\n",
    "\n",
    "Inference:\n",
    "- MCMC (Metropolis-Hastings)"
   ]
  },
  {
   "cell_type": "markdown",
   "metadata": {},
   "source": [
    "### Gaussian Distribution with Priors of the Parameters on the Phylogenetic Tree\n",
    "\n",
    "[Kostikova, Anna, et al. \"Bridging inter-and intraspecific trait evolution with a hierarchical Bayesian approach.\" Systematic biology 65.3 (2016): 417-431.](https://oup.silverchair-cdn.com/oup/backfile/Content_public/Journal/sysbio/65/3/10.1093_sysbio_syw010/2/syw010.pdf?Expires=1493500120&Signature=A~YOTKJyiNDSETyY25VUdSeotHwDROBKA80zVVzekP8VM1EmSGOrEXktGh~0lfoUmbFRu3DLejrVyx35~iSsEIUguVL7xvV00MlO0wpkLZBFuXtIYcRy4MIRSLY~WeTGTH~31rhh8pJi2Rw~FSJ5jd8UTtHy8s8mQVPDuB4DR-~2pyrzEIcwpw9QVafeiORu0n8h3Cm3-e5YRJA2W9Ipprqg9Eec2prHOT~47b22u3zreZagFwu~V59kBpLtdPfvJAj9L6Q-klf~mnPyglvWVc30pK8N5xzY~XX-hiLVlyvMXXGvJm7g4kSu2FISqvSx-0zEhczEuC6bf9xE2doUpg__&Key-Pair-Id=APKAIUCZBIA4LVPAVW3Q)\n",
    "\n",
    "Model: \n",
    "- For a certain species, phenotypes are Gaussian distributed with parameter $(\\mu, \\sigma^2)$.\n",
    "- Species means ($\\mu$) have a prior of Brownian Motion on the phylogenetic tree.\n",
    "- Species variances ($\\sigma^2$) have a prior of Brownian Motion, OU process or white noise model on the phylogenetic tree. \n",
    "\n",
    "Inference:\n",
    "- MCMC (Metropolis-Hastings)"
   ]
  },
  {
   "cell_type": "markdown",
   "metadata": {},
   "source": [
    "### Lévy Processes\n",
    "\n",
    "[Landis, Michael J., Joshua G. Schraiber, and Mason Liang. \"Phylogenetic analysis using Lévy processes: finding jumps in the evolution of continuous traits.\" Systematic biology 62.2 (2013): 193-204.](https://oup.silverchair-cdn.com/oup/backfile/Content_public/Journal/sysbio/62/2/10.1093_sysbio_sys086/1/sys086.pdf?Expires=1493500235&Signature=amzQs8FyzvDW-6SmrBgeMcNly9EvygEJgs1d7P~NQQ1TZJpdKJyvCZ6GY8b7CEILnCz35DczWRBaBsKWSKXjFsTGt1-VaRKPIz3-yHL-ZA406Q2af0zad~w9-2~YkZNZGBG86~EoWxhJJDIauf6BAd6M2Ng6B1aCJdZzY42C9~KlHDusGdCg7J~TbIfRNCXlxvaohsEbxEB88wzt3~6wS7hUwIx1KHv5aSCsh4iMTN~hcoUvSmnPyLcqNk~PgXXaWIInOslXVIdAa9A51HS6WQAuoZkBkrj~hnFYdvNX134yHcTJz7BPjWL03P-jVuX1wJWj3sZdiZOcDIvwEN6qRg__&Key-Pair-Id=APKAIUCZBIA4LVPAVW3Q)\n",
    "\n",
    "Model: \n",
    "- Brownian Motion + Pure Jump\n",
    "- Jump Models:\n",
    "  - compound Poisson process with Gaussian jumps (JN = jump normal)\n",
    "  - VG process (Variance Gamma) \n",
    "  - AS process ($\\alpha$ stable)\n",
    "  \n",
    "Inference:\n",
    "- MCMC (Metropolis-Hastings) for jump locations and Lévy process parameters\n",
    "\n"
   ]
  },
  {
   "cell_type": "markdown",
   "metadata": {},
   "source": [
    "### Lévy Processes & Inference Using Monte Carlo EM Algorithm \n",
    "\n",
    "[Duchen, Pablo, et al. \"Inference of evolutionary jumps in large phylogenies using Levy processes.\" bioRxiv (2016): 089276.](https://oup.silverchair-cdn.com/oup/backfile/Content_public/Journal/sysbio/PAP/10.1093_sysbio_syx028/3/syx028.pdf?Expires=1493500399&Signature=T~JUZrErp7LLitKr8Z9SjWKCp8tCBX52H79K1OWbtDUPxCDGRe4ttX0xbubM1ewKHIti4lpxu9eSZYCRQO~whPzMszx-ZwAWpYbRGT5wmRexj7HZtrzGkpi~WaENz1F-5SOZitUvEwaIPwBdnRBDLYe32tyKf1QVBheqiyJdiFBXYrePS~LIP9pTAQV0HZ2n-proFwQ00pR9X~EwSPiL2mDV3mpGJG2pWmSRDACoQHXlhPHuM0RN8okii0ovtG2xafedE5fAAMJ-a2xpvL~V7DMv8R6njsLo4O6B78k6DgEyXwQGZsQNuv53c1aMlZfnWkjHEai7xRrm~0P90Z2T7g__&Key-Pair-Id=APKAIUCZBIA4LVPAVW3Q)\n",
    "\n",
    "Model: \n",
    "- Brownian Motion + Pure Jump (compound Poisson process with Gaussian jumps)\n",
    "\n",
    "Inference: \n",
    "- Instead of using MCMC, they used **Monte Carlo EM** to find the MLE of parameters ($\\mu, s_0^2, \\lambda$) and a numerical optimization approach to obtain the MLE of an additional parameter, $\\alpha$, which is the ratio of the variance parameters of the pure jump process and BM. "
   ]
  }
 ],
 "metadata": {
  "anaconda-cloud": {},
  "celltoolbar": "Raw Cell Format",
  "kernelspec": {
   "display_name": "Python [conda root]",
   "language": "python",
   "name": "conda-root-py"
  },
  "language_info": {
   "codemirror_mode": {
    "name": "ipython",
    "version": 3
   },
   "file_extension": ".py",
   "mimetype": "text/x-python",
   "name": "python",
   "nbconvert_exporter": "python",
   "pygments_lexer": "ipython3",
   "version": "3.5.2"
  }
 },
 "nbformat": 4,
 "nbformat_minor": 1
}
